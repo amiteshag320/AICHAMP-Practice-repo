{
 "cells": [
  {
   "cell_type": "code",
   "execution_count": 17,
   "metadata": {},
   "outputs": [],
   "source": [
    "from bs4 import BeautifulSoup\n",
    "import os\n",
    "import pandas as pd\n",
    "import requests"
   ]
  },
  {
   "cell_type": "code",
   "execution_count": 2,
   "metadata": {},
   "outputs": [],
   "source": [
    "WEB =\"https://www.imdb.com/list/ls000634294/\"\n",
    "html_script = requests.get(WEB).text\n",
    "soup = BeautifulSoup(html_script,'html.parser')"
   ]
  },
  {
   "cell_type": "code",
   "execution_count": 18,
   "metadata": {},
   "outputs": [],
   "source": [
    "Movie= soup.find(\"div\",class_= \"lister-list\")\n",
    "movie_names_list=[]\n",
    "movie_link_lst=[]\n",
    "movie_id =[]\n",
    "review_links=[]\n",
    "movie_names = Movie.find_all(\"h3\",class_=\"lister-item-header\")\n",
    "for i in movie_names:\n",
    "    movie_lst = i.find(\"a\").text\n",
    "    movie_links = i.find(\"a\")[\"href\"]\n",
    "    final_links = \"https://www.imdb.com\"+movie_links+\"?ref_=ttls_li_tt\"\n",
    "    revie_links = \"https://www.imdb.com\"+movie_links+\"reviews?ref_=tt_urv\"\n",
    "    movie_id.append(movie_links[9:-1])\n",
    "    movie_link_lst.append(final_links) \n",
    "    movie_names_list.append(movie_lst)\n",
    "    review_links.append(revie_links)"
   ]
  },
  {
   "cell_type": "code",
   "execution_count": 10,
   "metadata": {},
   "outputs": [],
   "source": [
    "time_list=[]\n",
    "genres_list=[]\n",
    "for i in movie_link_lst:\n",
    "    html_sc = requests.get(i).text\n",
    "    info = BeautifulSoup(html_sc,'html.parser')\n",
    "    yot = info.find(\"div\",\"titleBar\")\n",
    "    time = yot.find(\"time\").text[25:33]\n",
    "    genre = yot.find(\"div\",\"subtext\").findAll(\"a\")\n",
    "    genres = [g.contents[0] for g in genre]\n",
    "    genres = genres[:-1]\n",
    "    genres_list.append(genres)\n",
    "    time_list.append(time)\n"
   ]
  },
  {
   "cell_type": "code",
   "execution_count": 51,
   "metadata": {},
   "outputs": [
    {
     "name": "stdout",
     "output_type": "stream",
     "text": [
      "Complete\n",
      "HTTPConnectionPool(host='127.0.0.1', port=33481): Max retries exceeded with url: /session/dcf58344-7377-4afb-bdb0-c2713fe4debb/element (Caused by NewConnectionError('<urllib3.connection.HTTPConnection object at 0x7fe24cb9d6a0>: Failed to establish a new connection: [Errno 111] Connection refused'))\n"
     ]
    }
   ],
   "source": [
    "#for i in review_links:\n",
    "from selenium import webdriver      \n",
    "from selenium.common.exceptions import NoSuchElementException\n",
    "from selenium.webdriver.common.by import By\n",
    "from selenium.webdriver.support.ui import WebDriverWait\n",
    "from selenium.webdriver.support import expected_conditions as EC\n",
    "import time\n",
    "\n",
    "url =\"https://www.imdb.com/title/tt0111161/reviews?ref_=tt_urv\"\n",
    "patience_time1 = 60\n",
    "XPATH_loadmore = \"//*[@id='load-more-trigger']\"\n",
    "XPATH_grade = \"//*[@class='review-container']/div[1]\"\n",
    "list_grades = []\n",
    "driver = webdriver.Firefox()\n",
    "driver.get(url)\n",
    "\n",
    "\n",
    "# This is the part in which I open all 'load more' buttons.\n",
    "while True:\n",
    "    try:\n",
    "        loadmore = driver.find_element_by_id(\"load-more-trigger\")\n",
    "        time.sleep(2)\n",
    "        loadmore.click()\n",
    "        time.sleep(5)\n",
    "    except Exception as e:\n",
    "        print(e)\n",
    "        break\n",
    "    print(\"Complete\")\n",
    "    time.sleep(10)\n",
    "    \n",
    "    #html_code = requests.get(url).text\n",
    "    dates_all=[]\n",
    "    reviews_all=[]\n",
    "    r = BeautifulSoup(driver.page_source,'html.parser')\n",
    "    z = r.findAll(\"div\",\"text show-more__control\")\n",
    "    reviews = [m.text for m in z]\n",
    "    date = r.findAll(\"span\",\"review-date\")\n",
    "    dates_all = [d.text for d in date]\n",
    "    \n",
    "    driver.quit()"
   ]
  },
  {
   "cell_type": "code",
   "execution_count": 52,
   "metadata": {},
   "outputs": [
    {
     "data": {
      "text/plain": [
       "[<span class=\"review-date\">24 July 2010</span>,\n",
       " <span class=\"review-date\">26 November 2003</span>,\n",
       " <span class=\"review-date\">10 February 2006</span>,\n",
       " <span class=\"review-date\">21 November 2005</span>,\n",
       " <span class=\"review-date\">8 February 2001</span>,\n",
       " <span class=\"review-date\">18 February 2008</span>,\n",
       " <span class=\"review-date\">27 August 2002</span>,\n",
       " <span class=\"review-date\">15 June 2018</span>,\n",
       " <span class=\"review-date\">13 July 1999</span>,\n",
       " <span class=\"review-date\">25 March 1999</span>,\n",
       " <span class=\"review-date\">16 August 1998</span>,\n",
       " <span class=\"review-date\">6 February 1999</span>,\n",
       " <span class=\"review-date\">23 February 2020</span>,\n",
       " <span class=\"review-date\">21 October 1998</span>,\n",
       " <span class=\"review-date\">6 September 2000</span>,\n",
       " <span class=\"review-date\">25 December 2008</span>,\n",
       " <span class=\"review-date\">26 June 2020</span>,\n",
       " <span class=\"review-date\">3 August 2001</span>,\n",
       " <span class=\"review-date\">30 November 2017</span>,\n",
       " <span class=\"review-date\">16 July 2013</span>,\n",
       " <span class=\"review-date\">20 April 2017</span>,\n",
       " <span class=\"review-date\">7 September 2006</span>,\n",
       " <span class=\"review-date\">13 December 2015</span>,\n",
       " <span class=\"review-date\">1 September 2002</span>,\n",
       " <span class=\"review-date\">30 December 2007</span>,\n",
       " <span class=\"review-date\">16 July 2013</span>,\n",
       " <span class=\"review-date\">17 February 2012</span>,\n",
       " <span class=\"review-date\">2 August 1998</span>,\n",
       " <span class=\"review-date\">20 May 2004</span>,\n",
       " <span class=\"review-date\">2 August 2016</span>,\n",
       " <span class=\"review-date\">2 December 2008</span>,\n",
       " <span class=\"review-date\">1 October 2019</span>,\n",
       " <span class=\"review-date\">16 July 2013</span>,\n",
       " <span class=\"review-date\">27 November 2011</span>,\n",
       " <span class=\"review-date\">28 December 1998</span>,\n",
       " <span class=\"review-date\">5 June 2020</span>,\n",
       " <span class=\"review-date\">14 July 2013</span>,\n",
       " <span class=\"review-date\">16 March 2006</span>,\n",
       " <span class=\"review-date\">17 April 2012</span>,\n",
       " <span class=\"review-date\">4 September 2005</span>,\n",
       " <span class=\"review-date\">17 April 2009</span>,\n",
       " <span class=\"review-date\">19 November 2018</span>,\n",
       " <span class=\"review-date\">20 December 2002</span>,\n",
       " <span class=\"review-date\">18 June 2011</span>,\n",
       " <span class=\"review-date\">4 November 2000</span>,\n",
       " <span class=\"review-date\">24 October 2006</span>,\n",
       " <span class=\"review-date\">12 August 2004</span>,\n",
       " <span class=\"review-date\">7 June 2020</span>,\n",
       " <span class=\"review-date\">11 June 2019</span>,\n",
       " <span class=\"review-date\">10 August 2017</span>]"
      ]
     },
     "execution_count": 52,
     "metadata": {},
     "output_type": "execute_result"
    }
   ],
   "source": [
    "date"
   ]
  },
  {
   "cell_type": "code",
   "execution_count": null,
   "metadata": {},
   "outputs": [],
   "source": []
  },
  {
   "cell_type": "code",
   "execution_count": null,
   "metadata": {},
   "outputs": [],
   "source": []
  }
 ],
 "metadata": {
  "kernelspec": {
   "display_name": "Python 3",
   "language": "python",
   "name": "python3"
  },
  "language_info": {
   "codemirror_mode": {
    "name": "ipython",
    "version": 3
   },
   "file_extension": ".py",
   "mimetype": "text/x-python",
   "name": "python",
   "nbconvert_exporter": "python",
   "pygments_lexer": "ipython3",
   "version": "3.8.3"
  }
 },
 "nbformat": 4,
 "nbformat_minor": 4
}
