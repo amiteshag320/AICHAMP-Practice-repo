{
 "cells": [
  {
   "cell_type": "code",
   "execution_count": 14,
   "metadata": {},
   "outputs": [],
   "source": [
    "#trying or and gates \n",
    "def activationfunc(x):\n",
    "    if x<0:\n",
    "        k=0\n",
    "    if x>=0:   \n",
    "        k=1\n",
    "    return k\n",
    "\n",
    "def orgate(x1,x2):\n",
    "    w1 = 2\n",
    "    w2 =2\n",
    "    b=-1\n",
    "    Z=w1*x1  + w2*x2 +b\n",
    "    t = activationfunc(Z)\n",
    "    return t"
   ]
  },
  {
   "cell_type": "code",
   "execution_count": 15,
   "metadata": {},
   "outputs": [],
   "source": [
    "def andgate(x1,x2):\n",
    "    w1 = 1\n",
    "    w2 =1\n",
    "    b=-2\n",
    "    Z=w1*x1  + w2*x2 +b\n",
    "    t = activationfunc(Z)\n",
    "    return t\n",
    "    "
   ]
  },
  {
   "cell_type": "code",
   "execution_count": 16,
   "metadata": {},
   "outputs": [],
   "source": [
    "def notgate(x1):\n",
    "    w1 = -2\n",
    "    b = 1\n",
    "    Z=w1*x1 +b\n",
    "    t = activationfunc(Z)\n",
    "    return t "
   ]
  },
  {
   "cell_type": "code",
   "execution_count": 26,
   "metadata": {},
   "outputs": [
    {
     "name": "stdout",
     "output_type": "stream",
     "text": [
      "1\n"
     ]
    }
   ],
   "source": [
    "print(notgate(0))"
   ]
  },
  {
   "cell_type": "code",
   "execution_count": null,
   "metadata": {},
   "outputs": [],
   "source": []
  }
 ],
 "metadata": {
  "kernelspec": {
   "display_name": "Python 3",
   "language": "python",
   "name": "python3"
  },
  "language_info": {
   "codemirror_mode": {
    "name": "ipython",
    "version": 3
   },
   "file_extension": ".py",
   "mimetype": "text/x-python",
   "name": "python",
   "nbconvert_exporter": "python",
   "pygments_lexer": "ipython3",
   "version": "3.8.3"
  }
 },
 "nbformat": 4,
 "nbformat_minor": 4
}
