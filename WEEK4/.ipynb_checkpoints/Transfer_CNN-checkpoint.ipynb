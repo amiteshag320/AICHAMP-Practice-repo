{
 "cells": [
  {
   "cell_type": "code",
   "execution_count": 1,
   "metadata": {},
   "outputs": [],
   "source": [
    "import pandas as pd\n",
    "import math\n",
    "import tensorflow as tf\n",
    "from tensorflow import keras\n",
    "from tensorflow.keras.layers import Dense\n",
    "from tensorflow.keras.models import Sequential,Model\n",
    "from tensorflow.keras.layers import Dropout\n",
    "from tensorflow.keras.layers import Conv2D, MaxPool2D,Flatten\n",
    "from tensorflow.keras.preprocessing.image import ImageDataGenerator\n",
    "from keras.applications import VGG19\n",
    "from keras.callbacks import ReduceLROnPlateau\n",
    "import numpy as np\n",
    "\n",
    "import matplotlib.pyplot as plt"
   ]
  },
  {
   "cell_type": "code",
   "execution_count": 2,
   "metadata": {},
   "outputs": [],
   "source": [
    "(X_train,Y_train),(X_test,Y_test) = keras.datasets.cifar10.load_data()\n",
    "X_train,X_val,Y_train,Y_val=train_test_split(X_train,Y_train,test_size=.3)\n",
    "X_train = X_train / 255\n",
    "X_test = X_test / 255\n",
    "X_val = X_val/255"
   ]
  },
  {
   "cell_type": "code",
   "execution_count": 3,
   "metadata": {},
   "outputs": [],
   "source": [
    "datagen = ImageDataGenerator( \n",
    "         rotation_range=15,\n",
    "    width_shift_range=0.1,\n",
    "    height_shift_range=0.1,\n",
    "    horizontal_flip=True) \n",
    "\n",
    "\n",
    "val_generator = ImageDataGenerator(\n",
    "    rotation_range=15,\n",
    "    width_shift_range=0.1,\n",
    "    height_shift_range=0.1,\n",
    "    horizontal_flip=True)\n",
    "\n",
    "\n",
    "datagen.fit(X_train)\n",
    "val_generator.fit(X_val)\n"
   ]
  },
  {
   "cell_type": "code",
   "execution_count": 4,
   "metadata": {},
   "outputs": [],
   "source": [
    "num_classes = 10 \n",
    "Y_train = keras.utils.to_categorical(Y_train,num_classes)\n",
    "Y_test = keras.utils.to_categorical(Y_test,num_classes)\n",
    "Y_val = keras.utils.to_categorical(Y_val, num_classes)"
   ]
  },
  {
   "cell_type": "code",
   "execution_count": null,
   "metadata": {},
   "outputs": [],
   "source": [
    "lrr= ReduceLROnPlateau(\n",
    "                       monitor='val_acc', #Metric to be measured\n",
    "                       factor=.01, #Factor by which learning rate will be reduced\n",
    "                       patience=3,  #No. of epochs after which if there is no improvement in the val_acc, the learning rate is reduced\n",
    "                       min_lr=1e-5)"
   ]
  },
  {
   "cell_type": "code",
   "execution_count": 5,
   "metadata": {
    "scrolled": true
   },
   "outputs": [
    {
     "name": "stdout",
     "output_type": "stream",
     "text": [
      "Model: \"model\"\n",
      "_________________________________________________________________\n",
      "Layer (type)                 Output Shape              Param #   \n",
      "=================================================================\n",
      "input_1 (InputLayer)         [(None, 32, 32, 3)]       0         \n",
      "_________________________________________________________________\n",
      "block1_conv1 (Conv2D)        (None, 32, 32, 64)        1792      \n",
      "_________________________________________________________________\n",
      "block1_conv2 (Conv2D)        (None, 32, 32, 64)        36928     \n",
      "_________________________________________________________________\n",
      "block1_pool (MaxPooling2D)   (None, 16, 16, 64)        0         \n",
      "_________________________________________________________________\n",
      "block2_conv1 (Conv2D)        (None, 16, 16, 128)       73856     \n",
      "_________________________________________________________________\n",
      "block2_conv2 (Conv2D)        (None, 16, 16, 128)       147584    \n",
      "_________________________________________________________________\n",
      "block2_pool (MaxPooling2D)   (None, 8, 8, 128)         0         \n",
      "_________________________________________________________________\n",
      "block3_conv1 (Conv2D)        (None, 8, 8, 256)         295168    \n",
      "_________________________________________________________________\n",
      "block3_conv2 (Conv2D)        (None, 8, 8, 256)         590080    \n",
      "_________________________________________________________________\n",
      "block3_conv3 (Conv2D)        (None, 8, 8, 256)         590080    \n",
      "_________________________________________________________________\n",
      "block3_pool (MaxPooling2D)   (None, 4, 4, 256)         0         \n",
      "_________________________________________________________________\n",
      "block4_conv1 (Conv2D)        (None, 4, 4, 512)         1180160   \n",
      "_________________________________________________________________\n",
      "block4_conv2 (Conv2D)        (None, 4, 4, 512)         2359808   \n",
      "_________________________________________________________________\n",
      "block4_conv3 (Conv2D)        (None, 4, 4, 512)         2359808   \n",
      "_________________________________________________________________\n",
      "block4_pool (MaxPooling2D)   (None, 2, 2, 512)         0         \n",
      "_________________________________________________________________\n",
      "block5_conv1 (Conv2D)        (None, 2, 2, 512)         2359808   \n",
      "_________________________________________________________________\n",
      "block5_conv2 (Conv2D)        (None, 2, 2, 512)         2359808   \n",
      "_________________________________________________________________\n",
      "block5_conv3 (Conv2D)        (None, 2, 2, 512)         2359808   \n",
      "_________________________________________________________________\n",
      "block5_pool (MaxPooling2D)   (None, 1, 1, 512)         0         \n",
      "_________________________________________________________________\n",
      "flatten (Flatten)            (None, 512)               0         \n",
      "_________________________________________________________________\n",
      "dense (Dense)                (None, 500)               256500    \n",
      "_________________________________________________________________\n",
      "dense_1 (Dense)              (None, 10)                5010      \n",
      "=================================================================\n",
      "Total params: 14,976,198\n",
      "Trainable params: 261,510\n",
      "Non-trainable params: 14,714,688\n",
      "_________________________________________________________________\n"
     ]
    }
   ],
   "source": [
    "vgg_model = VGG19(weights='imagenet', include_top=False,input_shape=(32,32,3))\n",
    "\n",
    "for layer in vgg_model.layers:\n",
    "    layer.trainable = False\n",
    "    \n",
    "    \n",
    "x = Flatten()(vgg_model.output)\n",
    "y = Dense(512, activation='relu',input_shape=(512))(x)\n",
    "y = Dense(256, activation='relu')(y)\n",
    "y = Dense(128, activation='relu')(y)\n",
    "prediction = Dense(num_classes, activation='softmax')(y)\n",
    "\n",
    "model=Model(inputs = vgg_model.input ,outputs=prediction)\n",
    "model.summary()"
   ]
  },
  {
   "cell_type": "code",
   "execution_count": null,
   "metadata": {},
   "outputs": [
    {
     "name": "stdout",
     "output_type": "stream",
     "text": [
      "Epoch 1/15\n",
      "703/703 [==============================] - 299s 425ms/step - loss: 1.1450 - accuracy: 0.5950 - val_loss: 1.1213 - val_accuracy: 0.6076\n",
      "Epoch 2/15\n",
      "703/703 [==============================] - 302s 430ms/step - loss: 1.1198 - accuracy: 0.6039 - val_loss: 1.0857 - val_accuracy: 0.6206\n",
      "Epoch 3/15\n",
      "703/703 [==============================] - 303s 431ms/step - loss: 1.0992 - accuracy: 0.6121 - val_loss: 1.0902 - val_accuracy: 0.6240\n",
      "Epoch 4/15\n",
      "703/703 [==============================] - 321s 456ms/step - loss: 1.0826 - accuracy: 0.6168 - val_loss: 1.0801 - val_accuracy: 0.6194\n",
      "Epoch 5/15\n",
      "703/703 [==============================] - 305s 433ms/step - loss: 1.0685 - accuracy: 0.6218 - val_loss: 1.0904 - val_accuracy: 0.6124\n",
      "Epoch 6/15\n",
      "703/703 [==============================] - 302s 430ms/step - loss: 1.0537 - accuracy: 0.6281 - val_loss: 1.0705 - val_accuracy: 0.6212\n",
      "Epoch 7/15\n",
      "703/703 [==============================] - 305s 433ms/step - loss: 1.0341 - accuracy: 0.6339 - val_loss: 1.0726 - val_accuracy: 0.6236\n",
      "Epoch 8/15\n",
      "703/703 [==============================] - 310s 440ms/step - loss: 1.0253 - accuracy: 0.6366 - val_loss: 1.0829 - val_accuracy: 0.6252\n",
      "Epoch 9/15\n",
      "703/703 [==============================] - 305s 434ms/step - loss: 1.0100 - accuracy: 0.6428 - val_loss: 1.0918 - val_accuracy: 0.6190\n",
      "Epoch 10/15\n",
      "703/703 [==============================] - 306s 435ms/step - loss: 1.0001 - accuracy: 0.6461 - val_loss: 1.0821 - val_accuracy: 0.6196\n",
      "Epoch 11/15\n",
      "453/703 [==================>...........] - ETA: 1:43 - loss: 0.9737 - accuracy: 0.6552"
     ]
    }
   ],
   "source": [
    "model.compile(\n",
    "  loss='categorical_crossentropy',\n",
    "  optimizer='Adam',\n",
    "  metrics=['accuracy']\n",
    ")\n",
    "r = model.fit_generator(\n",
    "  datagen.flow(X_train, Y_train, batch_size=128),\\\n",
    "                steps_per_epoch=X_train.shape[0] // 128,epochs=15,\\\n",
    "                verbose=1,validation_data=val_generator.flow(X_val,Y_val,batch_size=128),callbacks=[lrr])\n",
    "\n"
   ]
  },
  {
   "cell_type": "code",
   "execution_count": null,
   "metadata": {},
   "outputs": [],
   "source": [
    "plt.plot(r.history['accuracy'], label='accuracy')\n",
    "plt.plot(r.history['val_accuracy'], label='val_accuracy')\n",
    "plt.legend()\n",
    "plt.title('Accuracy evolution')\n"
   ]
  },
  {
   "cell_type": "code",
   "execution_count": null,
   "metadata": {},
   "outputs": [],
   "source": [
    "test_loss, test_acc = model.evaluate(X_test,  Y_test, verbose=2)"
   ]
  }
 ],
 "metadata": {
  "kernelspec": {
   "display_name": "Python 3",
   "language": "python",
   "name": "python3"
  },
  "language_info": {
   "codemirror_mode": {
    "name": "ipython",
    "version": 3
   },
   "file_extension": ".py",
   "mimetype": "text/x-python",
   "name": "python",
   "nbconvert_exporter": "python",
   "pygments_lexer": "ipython3",
   "version": "3.8.3"
  }
 },
 "nbformat": 4,
 "nbformat_minor": 4
}
