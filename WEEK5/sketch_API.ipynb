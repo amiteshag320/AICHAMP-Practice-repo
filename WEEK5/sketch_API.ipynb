{
 "cells": [
  {
   "cell_type": "code",
   "execution_count": 1,
   "metadata": {},
   "outputs": [],
   "source": [
    "import cv2 as cv\n",
    "import numpy as np\n",
    "from flask import Flask, render_template, request,jsonify\n",
    "import os\n",
    "from flask_cors import CORS\n",
    "\n",
    "import matplotlib.pyplot as plt \n"
   ]
  },
  {
   "cell_type": "code",
   "execution_count": 2,
   "metadata": {},
   "outputs": [
    {
     "name": "stdout",
     "output_type": "stream",
     "text": [
      " * Serving Flask app \"__main__\" (lazy loading)\n",
      " * Environment: production\n",
      "\u001b[31m   WARNING: This is a development server. Do not use it in a production deployment.\u001b[0m\n",
      "\u001b[2m   Use a production WSGI server instead.\u001b[0m\n",
      " * Debug mode: on\n"
     ]
    },
    {
     "name": "stderr",
     "output_type": "stream",
     "text": [
      " * Running on http://127.0.0.1:5000/ (Press CTRL+C to quit)\n",
      "127.0.0.1 - - [22/Oct/2020 20:16:01] \"\u001b[33mGET / HTTP/1.1\u001b[0m\" 404 -\n",
      "127.0.0.1 - - [22/Oct/2020 20:16:12] \"\u001b[37mGET /image HTTP/1.1\u001b[0m\" 200 -\n",
      "127.0.0.1 - - [22/Oct/2020 20:16:25] \"\u001b[37mPOST /image/sketch HTTP/1.1\u001b[0m\" 200 -\n",
      "127.0.0.1 - - [22/Oct/2020 20:16:25] \"\u001b[37mGET /static/index.jpeg HTTP/1.1\u001b[0m\" 200 -\n"
     ]
    }
   ],
   "source": [
    "app = Flask(__name__)\n",
    "CORS(app)\n",
    "@app.route('/image', methods=['GET', 'POST'])\n",
    "def index():\n",
    "    return render_template('get.html')\n",
    "@app.route('/image/sketch', methods=['GET', 'POST'])\n",
    "def data():\n",
    "    if request.method == 'POST':\n",
    "        file = request.files['image']\n",
    "        path_file=os.path.join(\"uploads\",file.filename)\n",
    "        file.save(path_file)\n",
    "        img = cv.imread(path_file)\n",
    "        gray = cv.cvtColor(img,cv.COLOR_BGR2GRAY)\n",
    "        inv_gray = 255 - gray\n",
    "        blur = cv.GaussianBlur(inv_gray ,(21,21), 0, 0)\n",
    "        final_sketch = cv.divide(gray, 255-blur, scale=256.0)\n",
    "        new_path = os.path.join(\"static\",file.filename)\n",
    "        cv.imwrite(new_path,final_sketch)\n",
    "        return render_template('show.html',image_name = file.filename)\n",
    "     \n",
    "        \n",
    "if __name__ == '__main__':\n",
    "    app.run(debug=True,use_reloader=False)    \n",
    "      "
   ]
  },
  {
   "cell_type": "code",
   "execution_count": null,
   "metadata": {},
   "outputs": [],
   "source": []
  },
  {
   "cell_type": "code",
   "execution_count": null,
   "metadata": {},
   "outputs": [],
   "source": []
  }
 ],
 "metadata": {
  "kernelspec": {
   "display_name": "Python 3",
   "language": "python",
   "name": "python3"
  },
  "language_info": {
   "codemirror_mode": {
    "name": "ipython",
    "version": 3
   },
   "file_extension": ".py",
   "mimetype": "text/x-python",
   "name": "python",
   "nbconvert_exporter": "python",
   "pygments_lexer": "ipython3",
   "version": "3.8.3"
  }
 },
 "nbformat": 4,
 "nbformat_minor": 4
}
