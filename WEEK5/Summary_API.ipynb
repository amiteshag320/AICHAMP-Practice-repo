{
 "cells": [
  {
   "cell_type": "code",
   "execution_count": 1,
   "metadata": {},
   "outputs": [
    {
     "name": "stderr",
     "output_type": "stream",
     "text": [
      "[nltk_data] Downloading package punkt to\n",
      "[nltk_data]     /home/amiteshag320/nltk_data...\n",
      "[nltk_data]   Package punkt is already up-to-date!\n",
      "[nltk_data] Downloading package stopwords to\n",
      "[nltk_data]     /home/amiteshag320/nltk_data...\n",
      "[nltk_data]   Package stopwords is already up-to-date!\n"
     ]
    },
    {
     "data": {
      "text/plain": [
       "True"
      ]
     },
     "execution_count": 1,
     "metadata": {},
     "output_type": "execute_result"
    }
   ],
   "source": [
    "import nltk \n",
    "from nltk.corpus import stopwords\n",
    "from nltk.tokenize import word_tokenize,sent_tokenize\n",
    "from flask import Flask, render_template, request,jsonify\n",
    "import requests\n",
    "import re\n",
    "from bs4 import BeautifulSoup\n",
    "import heapq\n",
    "from flask_cors import CORS\n",
    "nltk.download('punkt')\n",
    "nltk.download('stopwords')"
   ]
  },
  {
   "cell_type": "code",
   "execution_count": 2,
   "metadata": {},
   "outputs": [
    {
     "name": "stdout",
     "output_type": "stream",
     "text": [
      " * Serving Flask app \"__main__\" (lazy loading)\n",
      " * Environment: production\n",
      "\u001b[31m   WARNING: This is a development server. Do not use it in a production deployment.\u001b[0m\n",
      "\u001b[2m   Use a production WSGI server instead.\u001b[0m\n",
      " * Debug mode: on\n"
     ]
    },
    {
     "name": "stderr",
     "output_type": "stream",
     "text": [
      " * Running on http://127.0.0.1:5000/ (Press CTRL+C to quit)\n",
      "127.0.0.1 - - [19/Oct/2020 22:25:36] \"\u001b[33mGET / HTTP/1.1\u001b[0m\" 404 -\n",
      "127.0.0.1 - - [19/Oct/2020 22:25:42] \"\u001b[37mGET /blog_link/ HTTP/1.1\u001b[0m\" 200 -\n",
      "127.0.0.1 - - [19/Oct/2020 22:25:45] \"\u001b[37mPOST /blog_link/summary HTTP/1.1\u001b[0m\" 200 -\n"
     ]
    }
   ],
   "source": [
    "app = Flask(__name__)\n",
    "CORS(app)\n",
    "@app.route('/blog_link/', methods=['GET', 'POST'])\n",
    "def index():\n",
    "    return render_template('link.html')\n",
    "\n",
    "@app.route('/blog_link/summary', methods=['GET', 'POST'])\n",
    "def data():\n",
    "    if request.method == 'POST':\n",
    "        text = request.form['text']\n",
    "        WEB = text\n",
    "        html_script = requests.get(WEB).text\n",
    "        soup = BeautifulSoup(html_script,'html.parser')\n",
    "        paragraphs = soup.find_all('p')\n",
    "\n",
    "        blog_text=\"\"\n",
    "        for p in paragraphs:\n",
    "            blog_text+=p.text\n",
    "\n",
    "        blog_text = re.sub(r'\\[[0-9]*\\]', ' ', blog_text)\n",
    "        blog_text = re.sub(r'\\s+', ' ', blog_text)\n",
    "\n",
    "        formatted_blog_text = re.sub('[^a-zA-Z]', ' ', blog_text)\n",
    "        formatted_blog_text = re.sub(r'\\s+', ' ', formatted_blog_text)\n",
    "\n",
    "        sent_text = sent_tokenize(blog_text)\n",
    "\n",
    "        unwanted_words=stopwords.words('english')\n",
    "        word_frequencies = {}\n",
    "        for word in nltk.word_tokenize(formatted_blog_text):\n",
    "            if word not in unwanted_words:\n",
    "                if word not in word_frequencies.keys():\n",
    "                    word_frequencies[word] = 1\n",
    "                else:\n",
    "                    word_frequencies[word] += 1\n",
    "\n",
    "        maximum_frequncy = max(word_frequencies.values())\n",
    "        for word in word_frequencies:\n",
    "            word_frequencies[word] =  word_frequencies[word]/maximum_frequncy\n",
    "\n",
    "        sentence_scores = {}\n",
    "        for sent in sent_text:\n",
    "            for word in nltk.word_tokenize(sent.lower()):\n",
    "                if word in word_frequencies.keys():\n",
    "                    if len(sent.split(' ')) < 45:\n",
    "                        if sent not in sentence_scores.keys():\n",
    "                            sentence_scores[sent] = word_frequencies[word]\n",
    "                        else:\n",
    "                            sentence_scores[sent] += word_frequencies[word]\n",
    "\n",
    "\n",
    "        summary_sentences = heapq.nlargest(15, sentence_scores, key=sentence_scores.get)\n",
    "\n",
    "        summary = ' '.join(summary_sentences)\n",
    "        return summary\n",
    "    \n",
    "    \n",
    "if __name__ == '__main__':\n",
    "    app.run(debug=True,use_reloader=False)       "
   ]
  },
  {
   "cell_type": "code",
   "execution_count": null,
   "metadata": {},
   "outputs": [],
   "source": []
  }
 ],
 "metadata": {
  "kernelspec": {
   "display_name": "Python 3",
   "language": "python",
   "name": "python3"
  },
  "language_info": {
   "codemirror_mode": {
    "name": "ipython",
    "version": 3
   },
   "file_extension": ".py",
   "mimetype": "text/x-python",
   "name": "python",
   "nbconvert_exporter": "python",
   "pygments_lexer": "ipython3",
   "version": "3.8.3"
  }
 },
 "nbformat": 4,
 "nbformat_minor": 4
}
