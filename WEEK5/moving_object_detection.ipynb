{
 "cells": [
  {
   "cell_type": "code",
   "execution_count": 1,
   "metadata": {},
   "outputs": [],
   "source": [
    "import cv2 as cv\n",
    "import numpy as np\n"
   ]
  },
  {
   "cell_type": "code",
   "execution_count": 4,
   "metadata": {},
   "outputs": [],
   "source": [
    "cap = cv.VideoCapture('Dance.mp4')\n",
    "\n",
    "ret,frame1 = cap.read()\n",
    "ret,frame2 = cap.read()\n",
    "while cap.isOpened():\n",
    "    diff = cv.absdiff(frame1,frame2)\n",
    "    gray = cv.cvtColor(diff,cv.COLOR_BGR2GRAY)\n",
    "    blur = cv.GaussianBlur(gray,(5,5),0)\n",
    "    _,thresh = cv.threshold(blur, 20,255,cv.THRESH_BINARY)\n",
    "    dilated= cv.dilate(thresh,None,iterations =3)\n",
    "    contours,_ = cv.findContours(dilated,  cv.RETR_EXTERNAL, cv.CHAIN_APPROX_NONE)\n",
    "    for contour in contours:\n",
    "        (x,y,w,h)=cv.boundingRect(contour)\n",
    "        if cv.contourArea(contour) <700:\n",
    "            continue\n",
    "        \n",
    "        cv.rectangle(frame1,(x,y),(x+w,y+h),(0,255,0),2)\n",
    "        cv.putText(frame1,\"MOTION : {}\".format(\"DETECTED\"),(10,20),cv.FONT_HERSHEY_SIMPLEX,1,(0,0,255),3)\n",
    "    cv.imshow(\"feed\",frame1)\n",
    "    frame1 = frame2\n",
    "    ret,frame2 = cap.read()\n",
    "    \n",
    "    if cv.waitKey(10)==27:\n",
    "        break\n",
    "       \n",
    "cv.destroyAllWindows()\n",
    "cap.release()\n",
    "    "
   ]
  },
  {
   "cell_type": "code",
   "execution_count": null,
   "metadata": {},
   "outputs": [],
   "source": []
  },
  {
   "cell_type": "code",
   "execution_count": null,
   "metadata": {},
   "outputs": [],
   "source": []
  }
 ],
 "metadata": {
  "kernelspec": {
   "display_name": "Python 3",
   "language": "python",
   "name": "python3"
  },
  "language_info": {
   "codemirror_mode": {
    "name": "ipython",
    "version": 3
   },
   "file_extension": ".py",
   "mimetype": "text/x-python",
   "name": "python",
   "nbconvert_exporter": "python",
   "pygments_lexer": "ipython3",
   "version": "3.8.3"
  }
 },
 "nbformat": 4,
 "nbformat_minor": 4
}
