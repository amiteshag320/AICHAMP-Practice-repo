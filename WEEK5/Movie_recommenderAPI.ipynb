{
 "cells": [
  {
   "cell_type": "code",
   "execution_count": 1,
   "metadata": {},
   "outputs": [],
   "source": [
    "from flask import Flask, render_template, request,jsonify\n",
    "import os\n",
    "from flask_cors import CORS\n",
    "import pandas as pd \n",
    "import numpy as np \n",
    "from sklearn.metrics.pairwise import cosine_similarity\n",
    "\n",
    "data = pd.read_csv(\"ml-latest-small/movies.csv\")\n",
    "ratings = pd.read_csv(\"ml-latest-small/ratings.csv\")\n",
    "data['title'] = data['title'].str.lower()\n",
    "final_data = ratings.merge(data , on = 'movieId')\n",
    "average_rating = pd.DataFrame(final_data.groupby('title')['rating'].mean())\n",
    "average_rating['Total Ratings'] = pd.DataFrame(final_data.groupby('title')['rating'].count()) \n",
    "full_data = data.merge(average_rating , on =\"title\")\n",
    "full_data = full_data.join(full_data.genres.str.get_dummies(\"|\"))#onehotcoding\n",
    "cos_sim = cosine_similarity(full_data.iloc[:,5:])\n",
    "show_data = full_data.iloc[:,:4]"
   ]
  },
  {
   "cell_type": "code",
   "execution_count": null,
   "metadata": {},
   "outputs": [
    {
     "name": "stdout",
     "output_type": "stream",
     "text": [
      " * Serving Flask app \"__main__\" (lazy loading)\n",
      " * Environment: production\n",
      "\u001b[31m   WARNING: This is a development server. Do not use it in a production deployment.\u001b[0m\n",
      "\u001b[2m   Use a production WSGI server instead.\u001b[0m\n",
      " * Debug mode: on\n"
     ]
    },
    {
     "name": "stderr",
     "output_type": "stream",
     "text": [
      " * Running on http://127.0.0.9:4455/ (Press CTRL+C to quit)\n",
      "127.0.0.1 - - [22/Oct/2020 00:04:33] \"\u001b[33mGET / HTTP/1.1\u001b[0m\" 404 -\n",
      "127.0.0.1 - - [22/Oct/2020 00:04:37] \"\u001b[37mGET /movie/ HTTP/1.1\u001b[0m\" 200 -\n",
      "127.0.0.1 - - [22/Oct/2020 00:04:42] \"\u001b[37mPOST /movie/recommend HTTP/1.1\u001b[0m\" 200 -\n"
     ]
    },
    {
     "name": "stdout",
     "output_type": "stream",
     "text": [
      "<class 'list'>\n"
     ]
    }
   ],
   "source": [
    "app = Flask(__name__)\n",
    "CORS(app)\n",
    "@app.route('/movie/', methods=['GET', 'POST'])\n",
    "def index():\n",
    "    return render_template('film_get.html')\n",
    "@app.route('/movie/recommend', methods=['GET', 'POST'])\n",
    "def data():\n",
    "    if request.method == 'POST':\n",
    "        text = request.form['text']\n",
    "        text = text.lower()\n",
    "        idx = full_data[full_data['title']==text].index.values\n",
    "        top5 = np.argsort(cos_sim[idx[0]])[-5:][::-1]\n",
    "        lst=[]\n",
    "        for i in top5:\n",
    "            lst.append(show_data.iloc[i].to_string())\n",
    "        print(type(lst))    \n",
    "        return jsonify({\"Recommendations\":lst})\n",
    "    \n",
    "if __name__==\"__main__\":\n",
    "    app.run(host='127.0.0.9',port=4455,debug=True,use_reloader=False)       "
   ]
  },
  {
   "cell_type": "code",
   "execution_count": null,
   "metadata": {},
   "outputs": [],
   "source": []
  }
 ],
 "metadata": {
  "kernelspec": {
   "display_name": "Python 3",
   "language": "python",
   "name": "python3"
  },
  "language_info": {
   "codemirror_mode": {
    "name": "ipython",
    "version": 3
   },
   "file_extension": ".py",
   "mimetype": "text/x-python",
   "name": "python",
   "nbconvert_exporter": "python",
   "pygments_lexer": "ipython3",
   "version": "3.8.3"
  }
 },
 "nbformat": 4,
 "nbformat_minor": 4
}
